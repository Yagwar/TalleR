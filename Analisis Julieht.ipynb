{
 "cells": [
  {
   "cell_type": "code",
   "execution_count": 55,
   "metadata": {
    "collapsed": false
   },
   "outputs": [
    {
     "data": {
      "text/plain": [
       "   Min. 1st Qu.  Median    Mean 3rd Qu.    Max. \n",
       "  3.173   8.695  10.050   9.971  11.310  15.990 "
      ]
     },
     "metadata": {},
     "output_type": "display_data"
    },
    {
     "data": {
      "image/png": "[encoded data removed]",
      "text/plain": [
       "Plot with title “Histogram of cosa1”"
      ]
     },
     "metadata": {},
     "output_type": "display_data"
    }
   ],
   "source": [
    "cosa1<-rnorm(1500,10,2)\n",
    "summary(cosa1)\n",
    "hist(cosa1, col=\"gray80\")\n"
   ]
  },
  {
   "cell_type": "code",
   "execution_count": 10,
   "metadata": {
    "collapsed": false
   },
   "outputs": [
    {
     "data": {
      "text/html": [
       "2.01911796514966"
      ],
      "text/latex": [
       "2.01911796514966"
      ],
      "text/markdown": [
       "2.01911796514966"
      ],
      "text/plain": [
       "[1] 2.019118"
      ]
     },
     "metadata": {},
     "output_type": "display_data"
    }
   ],
   "source": [
    "sd(cosa1)"
   ]
  },
  {
   "cell_type": "code",
   "execution_count": 11,
   "metadata": {
    "collapsed": true
   },
   "outputs": [],
   "source": [
    "#install.packages(\"psych\")\n",
    "library(psych)"
   ]
  },
  {
   "cell_type": "code",
   "execution_count": 13,
   "metadata": {
    "collapsed": false
   },
   "outputs": [
    {
     "data": {
      "text/plain": [
       "   Question.1       Question.2       Question.3       Question.4    \n",
       " Min.   :0.0000   Min.   :0.0000   Min.   :0.0000   Min.   :0.0000  \n",
       " 1st Qu.:1.0000   1st Qu.:0.0000   1st Qu.:0.0000   1st Qu.:1.0000  \n",
       " Median :1.0000   Median :1.0000   Median :0.0000   Median :1.0000  \n",
       " Mean   :0.8684   Mean   :0.6316   Mean   :0.4211   Mean   :0.7632  \n",
       " 3rd Qu.:1.0000   3rd Qu.:1.0000   3rd Qu.:1.0000   3rd Qu.:1.0000  \n",
       " Max.   :1.0000   Max.   :1.0000   Max.   :1.0000   Max.   :1.0000  \n",
       "   Question.5   Question.6       Question.7       Question.8       Question.9\n",
       " Min.   :1    Min.   :0.0000   Min.   :0.0000   Min.   :0.0000   Min.   :1   \n",
       " 1st Qu.:1    1st Qu.:0.2500   1st Qu.:1.0000   1st Qu.:1.0000   1st Qu.:1   \n",
       " Median :1    Median :1.0000   Median :1.0000   Median :1.0000   Median :1   \n",
       " Mean   :1    Mean   :0.7368   Mean   :0.8947   Mean   :0.9737   Mean   :1   \n",
       " 3rd Qu.:1    3rd Qu.:1.0000   3rd Qu.:1.0000   3rd Qu.:1.0000   3rd Qu.:1   \n",
       " Max.   :1    Max.   :1.0000   Max.   :1.0000   Max.   :1.0000   Max.   :1   \n",
       "  Question.10      Question.11      Question.12      Question.13    \n",
       " Min.   :0.0000   Min.   :0.0000   Min.   :0.0000   Min.   :0.0000  \n",
       " 1st Qu.:1.0000   1st Qu.:0.0000   1st Qu.:0.0000   1st Qu.:0.0000  \n",
       " Median :1.0000   Median :1.0000   Median :1.0000   Median :1.0000  \n",
       " Mean   :0.8421   Mean   :0.5526   Mean   :0.6842   Mean   :0.6579  \n",
       " 3rd Qu.:1.0000   3rd Qu.:1.0000   3rd Qu.:1.0000   3rd Qu.:1.0000  \n",
       " Max.   :1.0000   Max.   :1.0000   Max.   :1.0000   Max.   :1.0000  \n",
       "  Question.14      Question.15      Question.16      Question.17    \n",
       " Min.   :0.0000   Min.   :0.0000   Min.   :0.0000   Min.   :0.0000  \n",
       " 1st Qu.:1.0000   1st Qu.:1.0000   1st Qu.:1.0000   1st Qu.:1.0000  \n",
       " Median :1.0000   Median :1.0000   Median :1.0000   Median :1.0000  \n",
       " Mean   :0.9737   Mean   :0.8421   Mean   :0.7895   Mean   :0.9474  \n",
       " 3rd Qu.:1.0000   3rd Qu.:1.0000   3rd Qu.:1.0000   3rd Qu.:1.0000  \n",
       " Max.   :1.0000   Max.   :1.0000   Max.   :1.0000   Max.   :1.0000  \n",
       "  Question.18      Question.19      Question.20      Question.21    \n",
       " Min.   :0.0000   Min.   :0.0000   Min.   :0.0000   Min.   :0.0000  \n",
       " 1st Qu.:1.0000   1st Qu.:1.0000   1st Qu.:1.0000   1st Qu.:1.0000  \n",
       " Median :1.0000   Median :1.0000   Median :1.0000   Median :1.0000  \n",
       " Mean   :0.9737   Mean   :0.7895   Mean   :0.8158   Mean   :0.8421  \n",
       " 3rd Qu.:1.0000   3rd Qu.:1.0000   3rd Qu.:1.0000   3rd Qu.:1.0000  \n",
       " Max.   :1.0000   Max.   :1.0000   Max.   :1.0000   Max.   :1.0000  \n",
       "  Question.22      Question.23      Question.24      Question.25    \n",
       " Min.   :0.0000   Min.   :0.0000   Min.   :0.0000   Min.   :0.0000  \n",
       " 1st Qu.:1.0000   1st Qu.:1.0000   1st Qu.:1.0000   1st Qu.:0.0000  \n",
       " Median :1.0000   Median :1.0000   Median :1.0000   Median :1.0000  \n",
       " Mean   :0.8684   Mean   :0.9474   Mean   :0.9474   Mean   :0.6842  \n",
       " 3rd Qu.:1.0000   3rd Qu.:1.0000   3rd Qu.:1.0000   3rd Qu.:1.0000  \n",
       " Max.   :1.0000   Max.   :1.0000   Max.   :1.0000   Max.   :1.0000  \n",
       "  Question.26      Question.27      Question.28      Question.29    \n",
       " Min.   :0.0000   Min.   :0.0000   Min.   :0.0000   Min.   :0.0000  \n",
       " 1st Qu.:1.0000   1st Qu.:1.0000   1st Qu.:1.0000   1st Qu.:1.0000  \n",
       " Median :1.0000   Median :1.0000   Median :1.0000   Median :1.0000  \n",
       " Mean   :0.8684   Mean   :0.9474   Mean   :0.8684   Mean   :0.8421  \n",
       " 3rd Qu.:1.0000   3rd Qu.:1.0000   3rd Qu.:1.0000   3rd Qu.:1.0000  \n",
       " Max.   :1.0000   Max.   :1.0000   Max.   :1.0000   Max.   :1.0000  \n",
       "  Question.30      Question.31      Question.32      Question.33    \n",
       " Min.   :0.0000   Min.   :0.0000   Min.   :0.0000   Min.   :0.0000  \n",
       " 1st Qu.:0.0000   1st Qu.:0.0000   1st Qu.:1.0000   1st Qu.:1.0000  \n",
       " Median :1.0000   Median :1.0000   Median :1.0000   Median :1.0000  \n",
       " Mean   :0.7105   Mean   :0.5263   Mean   :0.7632   Mean   :0.8421  \n",
       " 3rd Qu.:1.0000   3rd Qu.:1.0000   3rd Qu.:1.0000   3rd Qu.:1.0000  \n",
       " Max.   :1.0000   Max.   :1.0000   Max.   :1.0000   Max.   :1.0000  \n",
       "  Question.34        Genero  \n",
       " Min.   :0.0000   Hombre:20  \n",
       " 1st Qu.:1.0000   Mujer :18  \n",
       " Median :1.0000              \n",
       " Mean   :0.8158              \n",
       " 3rd Qu.:1.0000              \n",
       " Max.   :1.0000              "
      ]
     },
     "metadata": {},
     "output_type": "display_data"
    }
   ],
   "source": [
    "prueba<-read.csv2(\"datos_julieht.csv\")\n",
    "summary(prueba)"
   ]
  },
  {
   "cell_type": "code",
   "execution_count": 15,
   "metadata": {
    "collapsed": false
   },
   "outputs": [
    {
     "data": {
      "text/html": [
       "<ol class=list-inline>\n",
       "\t<li>'Question.1'</li>\n",
       "\t<li>'Question.2'</li>\n",
       "\t<li>'Question.3'</li>\n",
       "\t<li>'Question.4'</li>\n",
       "\t<li>'Question.5'</li>\n",
       "\t<li>'Question.6'</li>\n",
       "\t<li>'Question.7'</li>\n",
       "\t<li>'Question.8'</li>\n",
       "\t<li>'Question.9'</li>\n",
       "\t<li>'Question.10'</li>\n",
       "\t<li>'Question.11'</li>\n",
       "\t<li>'Question.12'</li>\n",
       "\t<li>'Question.13'</li>\n",
       "\t<li>'Question.14'</li>\n",
       "\t<li>'Question.15'</li>\n",
       "\t<li>'Question.16'</li>\n",
       "\t<li>'Question.17'</li>\n",
       "\t<li>'Question.18'</li>\n",
       "\t<li>'Question.19'</li>\n",
       "\t<li>'Question.20'</li>\n",
       "\t<li>'Question.21'</li>\n",
       "\t<li>'Question.22'</li>\n",
       "\t<li>'Question.23'</li>\n",
       "\t<li>'Question.24'</li>\n",
       "\t<li>'Question.25'</li>\n",
       "\t<li>'Question.26'</li>\n",
       "\t<li>'Question.27'</li>\n",
       "\t<li>'Question.28'</li>\n",
       "\t<li>'Question.29'</li>\n",
       "\t<li>'Question.30'</li>\n",
       "\t<li>'Question.31'</li>\n",
       "\t<li>'Question.32'</li>\n",
       "\t<li>'Question.33'</li>\n",
       "\t<li>'Question.34'</li>\n",
       "\t<li>'Genero'</li>\n",
       "</ol>\n"
      ],
      "text/latex": [
       "\\begin{enumerate*}\n",
       "\\item 'Question.1'\n",
       "\\item 'Question.2'\n",
       "\\item 'Question.3'\n",
       "\\item 'Question.4'\n",
       "\\item 'Question.5'\n",
       "\\item 'Question.6'\n",
       "\\item 'Question.7'\n",
       "\\item 'Question.8'\n",
       "\\item 'Question.9'\n",
       "\\item 'Question.10'\n",
       "\\item 'Question.11'\n",
       "\\item 'Question.12'\n",
       "\\item 'Question.13'\n",
       "\\item 'Question.14'\n",
       "\\item 'Question.15'\n",
       "\\item 'Question.16'\n",
       "\\item 'Question.17'\n",
       "\\item 'Question.18'\n",
       "\\item 'Question.19'\n",
       "\\item 'Question.20'\n",
       "\\item 'Question.21'\n",
       "\\item 'Question.22'\n",
       "\\item 'Question.23'\n",
       "\\item 'Question.24'\n",
       "\\item 'Question.25'\n",
       "\\item 'Question.26'\n",
       "\\item 'Question.27'\n",
       "\\item 'Question.28'\n",
       "\\item 'Question.29'\n",
       "\\item 'Question.30'\n",
       "\\item 'Question.31'\n",
       "\\item 'Question.32'\n",
       "\\item 'Question.33'\n",
       "\\item 'Question.34'\n",
       "\\item 'Genero'\n",
       "\\end{enumerate*}\n"
      ],
      "text/markdown": [
       "1. 'Question.1'\n",
       "2. 'Question.2'\n",
       "3. 'Question.3'\n",
       "4. 'Question.4'\n",
       "5. 'Question.5'\n",
       "6. 'Question.6'\n",
       "7. 'Question.7'\n",
       "8. 'Question.8'\n",
       "9. 'Question.9'\n",
       "10. 'Question.10'\n",
       "11. 'Question.11'\n",
       "12. 'Question.12'\n",
       "13. 'Question.13'\n",
       "14. 'Question.14'\n",
       "15. 'Question.15'\n",
       "16. 'Question.16'\n",
       "17. 'Question.17'\n",
       "18. 'Question.18'\n",
       "19. 'Question.19'\n",
       "20. 'Question.20'\n",
       "21. 'Question.21'\n",
       "22. 'Question.22'\n",
       "23. 'Question.23'\n",
       "24. 'Question.24'\n",
       "25. 'Question.25'\n",
       "26. 'Question.26'\n",
       "27. 'Question.27'\n",
       "28. 'Question.28'\n",
       "29. 'Question.29'\n",
       "30. 'Question.30'\n",
       "31. 'Question.31'\n",
       "32. 'Question.32'\n",
       "33. 'Question.33'\n",
       "34. 'Question.34'\n",
       "35. 'Genero'\n",
       "\n",
       "\n"
      ],
      "text/plain": [
       " [1] \"Question.1\"  \"Question.2\"  \"Question.3\"  \"Question.4\"  \"Question.5\" \n",
       " [6] \"Question.6\"  \"Question.7\"  \"Question.8\"  \"Question.9\"  \"Question.10\"\n",
       "[11] \"Question.11\" \"Question.12\" \"Question.13\" \"Question.14\" \"Question.15\"\n",
       "[16] \"Question.16\" \"Question.17\" \"Question.18\" \"Question.19\" \"Question.20\"\n",
       "[21] \"Question.21\" \"Question.22\" \"Question.23\" \"Question.24\" \"Question.25\"\n",
       "[26] \"Question.26\" \"Question.27\" \"Question.28\" \"Question.29\" \"Question.30\"\n",
       "[31] \"Question.31\" \"Question.32\" \"Question.33\" \"Question.34\" \"Genero\"     "
      ]
     },
     "metadata": {},
     "output_type": "display_data"
    }
   ],
   "source": [
    "names(prueba)"
   ]
  },
  {
   "cell_type": "code",
   "execution_count": 19,
   "metadata": {
    "collapsed": false
   },
   "outputs": [
    {
     "data": {
      "image/png": "[encoded data removed]",
      "text/plain": [
       "plot without title"
      ]
     },
     "metadata": {},
     "output_type": "display_data"
    }
   ],
   "source": [
    "pie(prop.table(table(prueba$Genero)))"
   ]
  },
  {
   "cell_type": "code",
   "execution_count": 34,
   "metadata": {
    "collapsed": false
   },
   "outputs": [],
   "source": [
    "respuestas<-prueba[,1:34]\n",
    "genero<-prueba$Genero\n",
    "#prueba[,1:length(names(prueba))-1]"
   ]
  },
  {
   "cell_type": "code",
   "execution_count": 39,
   "metadata": {
    "collapsed": false
   },
   "outputs": [
    {
     "name": "stderr",
     "output_type": "stream",
     "text": [
      "Warning message in alpha(respuestas):\n",
      "“Item = Question.5 had no variance and was deleted”Warning message in alpha(respuestas):\n",
      "“Item = Question.9 had no variance and was deleted”Warning message in alpha(respuestas):\n",
      "“Some items were negatively correlated with the total scale and probably \n",
      "should be reversed.  \n",
      "To do this, run the function again with the 'check.keys=TRUE' option”"
     ]
    },
    {
     "name": "stdout",
     "output_type": "stream",
     "text": [
      "Some items ( Question.2 Question.14 Question.23 Question.24 Question.25 Question.29 Question.30 Question.34 ) were negatively correlated with the total scale and \n",
      "probably should be reversed.  \n",
      "To do this, run the function again with the 'check.keys=TRUE' option"
     ]
    }
   ],
   "source": [
    "analisis<-alpha(respuestas)"
   ]
  },
  {
   "cell_type": "code",
   "execution_count": 44,
   "metadata": {
    "collapsed": false
   },
   "outputs": [
    {
     "data": {
      "text/html": [
       "<ol class=list-inline>\n",
       "\t<li>'total'</li>\n",
       "\t<li>'alpha.drop'</li>\n",
       "\t<li>'item.stats'</li>\n",
       "\t<li>'response.freq'</li>\n",
       "\t<li>'keys'</li>\n",
       "\t<li>'scores'</li>\n",
       "\t<li>'nvar'</li>\n",
       "\t<li>'boot.ci'</li>\n",
       "\t<li>'boot'</li>\n",
       "\t<li>'Unidim'</li>\n",
       "\t<li>'Fit'</li>\n",
       "\t<li>'call'</li>\n",
       "\t<li>'title'</li>\n",
       "</ol>\n"
      ],
      "text/latex": [
       "\\begin{enumerate*}\n",
       "\\item 'total'\n",
       "\\item 'alpha.drop'\n",
       "\\item 'item.stats'\n",
       "\\item 'response.freq'\n",
       "\\item 'keys'\n",
       "\\item 'scores'\n",
       "\\item 'nvar'\n",
       "\\item 'boot.ci'\n",
       "\\item 'boot'\n",
       "\\item 'Unidim'\n",
       "\\item 'Fit'\n",
       "\\item 'call'\n",
       "\\item 'title'\n",
       "\\end{enumerate*}\n"
      ],
      "text/markdown": [
       "1. 'total'\n",
       "2. 'alpha.drop'\n",
       "3. 'item.stats'\n",
       "4. 'response.freq'\n",
       "5. 'keys'\n",
       "6. 'scores'\n",
       "7. 'nvar'\n",
       "8. 'boot.ci'\n",
       "9. 'boot'\n",
       "10. 'Unidim'\n",
       "11. 'Fit'\n",
       "12. 'call'\n",
       "13. 'title'\n",
       "\n",
       "\n"
      ],
      "text/plain": [
       " [1] \"total\"         \"alpha.drop\"    \"item.stats\"    \"response.freq\"\n",
       " [5] \"keys\"          \"scores\"        \"nvar\"          \"boot.ci\"      \n",
       " [9] \"boot\"          \"Unidim\"        \"Fit\"           \"call\"         \n",
       "[13] \"title\"        "
      ]
     },
     "metadata": {},
     "output_type": "display_data"
    }
   ],
   "source": [
    "names(analisis)"
   ]
  },
  {
   "cell_type": "code",
   "execution_count": null,
   "metadata": {
    "collapsed": true
   },
   "outputs": [],
   "source": [
    "write.csv2(analisis$item.stats, file=\"resultados1.csv\")"
   ]
  },
  {
   "cell_type": "code",
   "execution_count": 57,
   "metadata": {
    "collapsed": false
   },
   "outputs": [
    {
     "data": {
      "text/html": [
       "<table>\n",
       "<thead><tr><th scope=col>Question.1</th><th scope=col>Question.2</th><th scope=col>Question.3</th><th scope=col>Question.4</th><th scope=col>Question.5</th><th scope=col>Question.6</th><th scope=col>Question.7</th><th scope=col>Question.8</th><th scope=col>Question.9</th><th scope=col>Question.10</th><th scope=col>⋯</th><th scope=col>Question.25</th><th scope=col>Question.26</th><th scope=col>Question.27</th><th scope=col>Question.28</th><th scope=col>Question.29</th><th scope=col>Question.30</th><th scope=col>Question.31</th><th scope=col>Question.32</th><th scope=col>Question.33</th><th scope=col>Question.34</th></tr></thead>\n",
       "<tbody>\n",
       "\t<tr><td>1</td><td>1</td><td>1</td><td>1</td><td>1</td><td>1</td><td>1</td><td>1</td><td>1</td><td>1</td><td>⋯</td><td>1</td><td>1</td><td>1</td><td>1</td><td>0</td><td>1</td><td>1</td><td>1</td><td>1</td><td>1</td></tr>\n",
       "\t<tr><td>0</td><td>1</td><td>0</td><td>0</td><td>1</td><td>1</td><td>1</td><td>1</td><td>1</td><td>1</td><td>⋯</td><td>1</td><td>1</td><td>1</td><td>0</td><td>1</td><td>1</td><td>1</td><td>1</td><td>1</td><td>1</td></tr>\n",
       "\t<tr><td>0</td><td>1</td><td>0</td><td>1</td><td>1</td><td>1</td><td>1</td><td>1</td><td>1</td><td>1</td><td>⋯</td><td>1</td><td>1</td><td>1</td><td>1</td><td>1</td><td>1</td><td>1</td><td>1</td><td>1</td><td>1</td></tr>\n",
       "\t<tr><td>1</td><td>1</td><td>0</td><td>0</td><td>1</td><td>1</td><td>1</td><td>1</td><td>1</td><td>0</td><td>⋯</td><td>0</td><td>1</td><td>1</td><td>1</td><td>1</td><td>1</td><td>1</td><td>1</td><td>1</td><td>1</td></tr>\n",
       "\t<tr><td>1</td><td>1</td><td>0</td><td>1</td><td>1</td><td>0</td><td>0</td><td>1</td><td>1</td><td>0</td><td>⋯</td><td>0</td><td>0</td><td>1</td><td>1</td><td>1</td><td>0</td><td>0</td><td>1</td><td>1</td><td>1</td></tr>\n",
       "\t<tr><td>1</td><td>0</td><td>0</td><td>1</td><td>1</td><td>1</td><td>1</td><td>1</td><td>1</td><td>1</td><td>⋯</td><td>0</td><td>1</td><td>1</td><td>1</td><td>1</td><td>0</td><td>0</td><td>1</td><td>1</td><td>0</td></tr>\n",
       "</tbody>\n",
       "</table>\n"
      ],
      "text/latex": [
       "\\begin{tabular}{r|llllllllllllllllllllllllllllllllll}\n",
       " Question.1 & Question.2 & Question.3 & Question.4 & Question.5 & Question.6 & Question.7 & Question.8 & Question.9 & Question.10 & ⋯ & Question.25 & Question.26 & Question.27 & Question.28 & Question.29 & Question.30 & Question.31 & Question.32 & Question.33 & Question.34\\\\\n",
       "\\hline\n",
       "\t 1 & 1 & 1 & 1 & 1 & 1 & 1 & 1 & 1 & 1 & ⋯ & 1 & 1 & 1 & 1 & 0 & 1 & 1 & 1 & 1 & 1\\\\\n",
       "\t 0 & 1 & 0 & 0 & 1 & 1 & 1 & 1 & 1 & 1 & ⋯ & 1 & 1 & 1 & 0 & 1 & 1 & 1 & 1 & 1 & 1\\\\\n",
       "\t 0 & 1 & 0 & 1 & 1 & 1 & 1 & 1 & 1 & 1 & ⋯ & 1 & 1 & 1 & 1 & 1 & 1 & 1 & 1 & 1 & 1\\\\\n",
       "\t 1 & 1 & 0 & 0 & 1 & 1 & 1 & 1 & 1 & 0 & ⋯ & 0 & 1 & 1 & 1 & 1 & 1 & 1 & 1 & 1 & 1\\\\\n",
       "\t 1 & 1 & 0 & 1 & 1 & 0 & 0 & 1 & 1 & 0 & ⋯ & 0 & 0 & 1 & 1 & 1 & 0 & 0 & 1 & 1 & 1\\\\\n",
       "\t 1 & 0 & 0 & 1 & 1 & 1 & 1 & 1 & 1 & 1 & ⋯ & 0 & 1 & 1 & 1 & 1 & 0 & 0 & 1 & 1 & 0\\\\\n",
       "\\end{tabular}\n"
      ],
      "text/markdown": [
       "\n",
       "Question.1 | Question.2 | Question.3 | Question.4 | Question.5 | Question.6 | Question.7 | Question.8 | Question.9 | Question.10 | ⋯ | Question.25 | Question.26 | Question.27 | Question.28 | Question.29 | Question.30 | Question.31 | Question.32 | Question.33 | Question.34 | \n",
       "|---|---|---|---|---|---|\n",
       "| 1 | 1 | 1 | 1 | 1 | 1 | 1 | 1 | 1 | 1 | ⋯ | 1 | 1 | 1 | 1 | 0 | 1 | 1 | 1 | 1 | 1 | \n",
       "| 0 | 1 | 0 | 0 | 1 | 1 | 1 | 1 | 1 | 1 | ⋯ | 1 | 1 | 1 | 0 | 1 | 1 | 1 | 1 | 1 | 1 | \n",
       "| 0 | 1 | 0 | 1 | 1 | 1 | 1 | 1 | 1 | 1 | ⋯ | 1 | 1 | 1 | 1 | 1 | 1 | 1 | 1 | 1 | 1 | \n",
       "| 1 | 1 | 0 | 0 | 1 | 1 | 1 | 1 | 1 | 0 | ⋯ | 0 | 1 | 1 | 1 | 1 | 1 | 1 | 1 | 1 | 1 | \n",
       "| 1 | 1 | 0 | 1 | 1 | 0 | 0 | 1 | 1 | 0 | ⋯ | 0 | 0 | 1 | 1 | 1 | 0 | 0 | 1 | 1 | 1 | \n",
       "| 1 | 0 | 0 | 1 | 1 | 1 | 1 | 1 | 1 | 1 | ⋯ | 0 | 1 | 1 | 1 | 1 | 0 | 0 | 1 | 1 | 0 | \n",
       "\n",
       "\n"
      ],
      "text/plain": [
       "  Question.1 Question.2 Question.3 Question.4 Question.5 Question.6 Question.7\n",
       "1 1          1          1          1          1          1          1         \n",
       "2 0          1          0          0          1          1          1         \n",
       "3 0          1          0          1          1          1          1         \n",
       "4 1          1          0          0          1          1          1         \n",
       "5 1          1          0          1          1          0          0         \n",
       "6 1          0          0          1          1          1          1         \n",
       "  Question.8 Question.9 Question.10 ⋯ Question.25 Question.26 Question.27\n",
       "1 1          1          1           ⋯ 1           1           1          \n",
       "2 1          1          1           ⋯ 1           1           1          \n",
       "3 1          1          1           ⋯ 1           1           1          \n",
       "4 1          1          0           ⋯ 0           1           1          \n",
       "5 1          1          0           ⋯ 0           0           1          \n",
       "6 1          1          1           ⋯ 0           1           1          \n",
       "  Question.28 Question.29 Question.30 Question.31 Question.32 Question.33\n",
       "1 1           0           1           1           1           1          \n",
       "2 0           1           1           1           1           1          \n",
       "3 1           1           1           1           1           1          \n",
       "4 1           1           1           1           1           1          \n",
       "5 1           1           0           0           1           1          \n",
       "6 1           1           0           0           1           1          \n",
       "  Question.34\n",
       "1 1          \n",
       "2 1          \n",
       "3 1          \n",
       "4 1          \n",
       "5 1          \n",
       "6 0          "
      ]
     },
     "metadata": {},
     "output_type": "display_data"
    }
   ],
   "source": [
    "head(respuestas)"
   ]
  },
  {
   "cell_type": "code",
   "execution_count": 58,
   "metadata": {
    "collapsed": false
   },
   "outputs": [],
   "source": [
    "pun_direc<-rowSums(respuestas)"
   ]
  },
  {
   "cell_type": "code",
   "execution_count": 61,
   "metadata": {
    "collapsed": false
   },
   "outputs": [
    {
     "data": {
      "image/png": "[encoded data removed]",
      "text/plain": [
       "Plot with title “Histograma de puntajes”"
      ]
     },
     "metadata": {},
     "output_type": "display_data"
    }
   ],
   "source": [
    "#jpeg('histograma puntajes.jpg')\n",
    "\n",
    "hist(pun_direc,\n",
    "     col=\"gray75\",\n",
    "     main=\"Histograma de puntajes\",\n",
    "     ylab=\"Frecuencia\",\n",
    "     xlab=\"Puntuación directa\")\n",
    "\n",
    "#dev.off()"
   ]
  },
  {
   "cell_type": "code",
   "execution_count": 62,
   "metadata": {
    "collapsed": false
   },
   "outputs": [
    {
     "data": {
      "text/html": [
       "<table>\n",
       "<thead><tr><th scope=col>pun_direc</th><th scope=col>genero</th></tr></thead>\n",
       "<tbody>\n",
       "\t<tr><td>33    </td><td>Hombre</td></tr>\n",
       "\t<tr><td>24    </td><td>Hombre</td></tr>\n",
       "\t<tr><td>27    </td><td>Hombre</td></tr>\n",
       "\t<tr><td>26    </td><td>Hombre</td></tr>\n",
       "\t<tr><td>23    </td><td>Hombre</td></tr>\n",
       "\t<tr><td>24    </td><td>Hombre</td></tr>\n",
       "\t<tr><td>23    </td><td>Hombre</td></tr>\n",
       "\t<tr><td>22    </td><td>Hombre</td></tr>\n",
       "\t<tr><td>25    </td><td>Hombre</td></tr>\n",
       "\t<tr><td>30    </td><td>Hombre</td></tr>\n",
       "\t<tr><td>28    </td><td>Hombre</td></tr>\n",
       "\t<tr><td>28    </td><td>Hombre</td></tr>\n",
       "\t<tr><td>28    </td><td>Hombre</td></tr>\n",
       "\t<tr><td>22    </td><td>Hombre</td></tr>\n",
       "\t<tr><td>29    </td><td>Hombre</td></tr>\n",
       "\t<tr><td>28    </td><td>Hombre</td></tr>\n",
       "\t<tr><td>25    </td><td>Hombre</td></tr>\n",
       "\t<tr><td>29    </td><td>Hombre</td></tr>\n",
       "\t<tr><td>30    </td><td>Hombre</td></tr>\n",
       "\t<tr><td>31    </td><td>Hombre</td></tr>\n",
       "\t<tr><td>32    </td><td>Mujer </td></tr>\n",
       "\t<tr><td>28    </td><td>Mujer </td></tr>\n",
       "\t<tr><td>31    </td><td>Mujer </td></tr>\n",
       "\t<tr><td>29    </td><td>Mujer </td></tr>\n",
       "\t<tr><td>25    </td><td>Mujer </td></tr>\n",
       "\t<tr><td>31    </td><td>Mujer </td></tr>\n",
       "\t<tr><td>24    </td><td>Mujer </td></tr>\n",
       "\t<tr><td>29    </td><td>Mujer </td></tr>\n",
       "\t<tr><td>31    </td><td>Mujer </td></tr>\n",
       "\t<tr><td>26    </td><td>Mujer </td></tr>\n",
       "\t<tr><td>24    </td><td>Mujer </td></tr>\n",
       "\t<tr><td>30    </td><td>Mujer </td></tr>\n",
       "\t<tr><td>28    </td><td>Mujer </td></tr>\n",
       "\t<tr><td>21    </td><td>Mujer </td></tr>\n",
       "\t<tr><td>30    </td><td>Mujer </td></tr>\n",
       "\t<tr><td>31    </td><td>Mujer </td></tr>\n",
       "\t<tr><td>32    </td><td>Mujer </td></tr>\n",
       "\t<tr><td>33    </td><td>Mujer </td></tr>\n",
       "</tbody>\n",
       "</table>\n"
      ],
      "text/latex": [
       "\\begin{tabular}{r|ll}\n",
       " pun\\_direc & genero\\\\\n",
       "\\hline\n",
       "\t 33     & Hombre\\\\\n",
       "\t 24     & Hombre\\\\\n",
       "\t 27     & Hombre\\\\\n",
       "\t 26     & Hombre\\\\\n",
       "\t 23     & Hombre\\\\\n",
       "\t 24     & Hombre\\\\\n",
       "\t 23     & Hombre\\\\\n",
       "\t 22     & Hombre\\\\\n",
       "\t 25     & Hombre\\\\\n",
       "\t 30     & Hombre\\\\\n",
       "\t 28     & Hombre\\\\\n",
       "\t 28     & Hombre\\\\\n",
       "\t 28     & Hombre\\\\\n",
       "\t 22     & Hombre\\\\\n",
       "\t 29     & Hombre\\\\\n",
       "\t 28     & Hombre\\\\\n",
       "\t 25     & Hombre\\\\\n",
       "\t 29     & Hombre\\\\\n",
       "\t 30     & Hombre\\\\\n",
       "\t 31     & Hombre\\\\\n",
       "\t 32     & Mujer \\\\\n",
       "\t 28     & Mujer \\\\\n",
       "\t 31     & Mujer \\\\\n",
       "\t 29     & Mujer \\\\\n",
       "\t 25     & Mujer \\\\\n",
       "\t 31     & Mujer \\\\\n",
       "\t 24     & Mujer \\\\\n",
       "\t 29     & Mujer \\\\\n",
       "\t 31     & Mujer \\\\\n",
       "\t 26     & Mujer \\\\\n",
       "\t 24     & Mujer \\\\\n",
       "\t 30     & Mujer \\\\\n",
       "\t 28     & Mujer \\\\\n",
       "\t 21     & Mujer \\\\\n",
       "\t 30     & Mujer \\\\\n",
       "\t 31     & Mujer \\\\\n",
       "\t 32     & Mujer \\\\\n",
       "\t 33     & Mujer \\\\\n",
       "\\end{tabular}\n"
      ],
      "text/markdown": [
       "\n",
       "pun_direc | genero | \n",
       "|---|---|---|---|---|---|---|---|---|---|---|---|---|---|---|---|---|---|---|---|---|---|---|---|---|---|---|---|---|---|---|---|---|---|---|---|---|---|\n",
       "| 33     | Hombre | \n",
       "| 24     | Hombre | \n",
       "| 27     | Hombre | \n",
       "| 26     | Hombre | \n",
       "| 23     | Hombre | \n",
       "| 24     | Hombre | \n",
       "| 23     | Hombre | \n",
       "| 22     | Hombre | \n",
       "| 25     | Hombre | \n",
       "| 30     | Hombre | \n",
       "| 28     | Hombre | \n",
       "| 28     | Hombre | \n",
       "| 28     | Hombre | \n",
       "| 22     | Hombre | \n",
       "| 29     | Hombre | \n",
       "| 28     | Hombre | \n",
       "| 25     | Hombre | \n",
       "| 29     | Hombre | \n",
       "| 30     | Hombre | \n",
       "| 31     | Hombre | \n",
       "| 32     | Mujer  | \n",
       "| 28     | Mujer  | \n",
       "| 31     | Mujer  | \n",
       "| 29     | Mujer  | \n",
       "| 25     | Mujer  | \n",
       "| 31     | Mujer  | \n",
       "| 24     | Mujer  | \n",
       "| 29     | Mujer  | \n",
       "| 31     | Mujer  | \n",
       "| 26     | Mujer  | \n",
       "| 24     | Mujer  | \n",
       "| 30     | Mujer  | \n",
       "| 28     | Mujer  | \n",
       "| 21     | Mujer  | \n",
       "| 30     | Mujer  | \n",
       "| 31     | Mujer  | \n",
       "| 32     | Mujer  | \n",
       "| 33     | Mujer  | \n",
       "\n",
       "\n"
      ],
      "text/plain": [
       "   pun_direc genero\n",
       "1  33        Hombre\n",
       "2  24        Hombre\n",
       "3  27        Hombre\n",
       "4  26        Hombre\n",
       "5  23        Hombre\n",
       "6  24        Hombre\n",
       "7  23        Hombre\n",
       "8  22        Hombre\n",
       "9  25        Hombre\n",
       "10 30        Hombre\n",
       "11 28        Hombre\n",
       "12 28        Hombre\n",
       "13 28        Hombre\n",
       "14 22        Hombre\n",
       "15 29        Hombre\n",
       "16 28        Hombre\n",
       "17 25        Hombre\n",
       "18 29        Hombre\n",
       "19 30        Hombre\n",
       "20 31        Hombre\n",
       "21 32        Mujer \n",
       "22 28        Mujer \n",
       "23 31        Mujer \n",
       "24 29        Mujer \n",
       "25 25        Mujer \n",
       "26 31        Mujer \n",
       "27 24        Mujer \n",
       "28 29        Mujer \n",
       "29 31        Mujer \n",
       "30 26        Mujer \n",
       "31 24        Mujer \n",
       "32 30        Mujer \n",
       "33 28        Mujer \n",
       "34 21        Mujer \n",
       "35 30        Mujer \n",
       "36 31        Mujer \n",
       "37 32        Mujer \n",
       "38 33        Mujer "
      ]
     },
     "metadata": {},
     "output_type": "display_data"
    }
   ],
   "source": [
    "data.frame(pun_direc,genero)"
   ]
  },
  {
   "cell_type": "code",
   "execution_count": 65,
   "metadata": {
    "collapsed": true
   },
   "outputs": [],
   "source": [
    "t_diferencias<-t.test(pun_direc~genero)"
   ]
  },
  {
   "cell_type": "code",
   "execution_count": 67,
   "metadata": {
    "collapsed": false
   },
   "outputs": [
    {
     "data": {
      "text/plain": [
       "\n",
       "\tWelch Two Sample t-test\n",
       "\n",
       "data:  pun_direc by genero\n",
       "t = -1.7577, df = 35.045, p-value = 0.08754\n",
       "alternative hypothesis: true difference in means is not equal to 0\n",
       "95 percent confidence interval:\n",
       " -4.010593  0.288371\n",
       "sample estimates:\n",
       "mean in group Hombre  mean in group Mujer \n",
       "            26.75000             28.61111 \n"
      ]
     },
     "metadata": {},
     "output_type": "display_data"
    }
   ],
   "source": [
    "t_diferencias"
   ]
  },
  {
   "cell_type": "code",
   "execution_count": null,
   "metadata": {
    "collapsed": true
   },
   "outputs": [],
   "source": []
  }
 ],
 "metadata": {
  "kernelspec": {
   "display_name": "R",
   "language": "R",
   "name": "ir"
  },
  "language_info": {
   "codemirror_mode": "r",
   "file_extension": ".r",
   "mimetype": "text/x-r-source",
   "name": "R",
   "pygments_lexer": "r",
   "version": "3.3.2"
  }
 },
 "nbformat": 4,
 "nbformat_minor": 2
}
