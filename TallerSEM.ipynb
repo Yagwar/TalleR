{
 "cells": [
  {
   "cell_type": "code",
   "execution_count": 1,
   "metadata": {},
   "outputs": [],
   "source": [
    "wants <- c(\"lavaan\",\"foreign\",\"rcompanion\",\"car\",\"semPlot\")\n",
    "has   <- wants %in% rownames(installed.packages())\n",
    "if(any(!has)) install.packages(wants[!has],repos=\"https://cloud.r-project.org/\")"
   ]
  },
  {
   "cell_type": "code",
   "execution_count": 2,
   "metadata": {},
   "outputs": [
    {
     "data": {
      "text/html": [
       "'R version 3.6.1 (2019-07-05)'"
      ],
      "text/latex": [
       "'R version 3.6.1 (2019-07-05)'"
      ],
      "text/markdown": [
       "'R version 3.6.1 (2019-07-05)'"
      ],
      "text/plain": [
       "[1] \"R version 3.6.1 (2019-07-05)\""
      ]
     },
     "metadata": {},
     "output_type": "display_data"
    }
   ],
   "source": [
    "version$version.string"
   ]
  },
  {
   "cell_type": "code",
   "execution_count": 3,
   "metadata": {},
   "outputs": [
    {
     "name": "stderr",
     "output_type": "stream",
     "text": [
      "This is lavaan 0.6-5\n",
      "lavaan is BETA software! Please report any bugs.\n",
      "Loading required package: carData\n",
      "Registered S3 methods overwritten by 'lme4':\n",
      "  method                          from\n",
      "  cooks.distance.influence.merMod car \n",
      "  influence.merMod                car \n",
      "  dfbeta.influence.merMod         car \n",
      "  dfbetas.influence.merMod        car \n",
      "Registered S3 methods overwritten by 'huge':\n",
      "  method    from   \n",
      "  plot.sim  BDgraph\n",
      "  print.sim BDgraph\n"
     ]
    }
   ],
   "source": [
    "library(lavaan)\n",
    "library(foreign)\n",
    "library(rcompanion)\n",
    "library(car)\n",
    "library(semPlot)\n",
    "\n",
    "options(repr.plot.width=11, repr.plot.height=6)"
   ]
  },
  {
   "cell_type": "code",
   "execution_count": 4,
   "metadata": {},
   "outputs": [
    {
     "name": "stderr",
     "output_type": "stream",
     "text": [
      "re-encoding from UTF-8\n"
     ]
    }
   ],
   "source": [
    "dat_foreign=read.spss(\"Base LGBTI CELOS IS CONSUMO. sav.sav\",\n",
    "#                       use.value.labels = FALSE, \n",
    "                      to.data.frame=TRUE)\n",
    "# library (haven)\n",
    "# dat_haven=read_sav(\"Base LGBTI CELOS IS CONSUMO. sav.sav\")\n",
    "data=dat_foreign"
   ]
  },
  {
   "cell_type": "markdown",
   "metadata": {},
   "source": [
    "# I Regresión Logística\n",
    "\n",
    "Realice una regresión logística binaria, tomando el RIESGODECONSUMO como variable dependiente y como variables independientes las siguientes: Estratosocioeconómico, Hasidoinfielalgunavezenlavida, Seconsideracelosoa, TOTCELOS, TOTIDISDS, TOTIDIS, TOTALTABACO, TOTALALCOHOL, TOTALCANNABIS, TOTALCOCA y orientasexrecode2, responda lo siguiente:"
   ]
  },
  {
   "cell_type": "code",
   "execution_count": 5,
   "metadata": {},
   "outputs": [],
   "source": [
    "RL_model <- glm(RIESGODECONSUMO ~Estratosocioeconómico + Hasidoinfielalgunavezenlavida + Seconsideracelosoa + TOTCELOS + TOTIDISDS + TOTIDIS + TOTALTABACO + TOTALALCOHOL + TOTALCANNABIS + TOTALCOCA + orientasexrecode2,\n",
    "             family=binomial(link='logit'), # https://www.r-bloggers.com/how-to-perform-a-logistic-regression-in-r/\n",
    "#              family=\"binomial\", # https://stats.idre.ucla.edu/r/dae/logit-regression/\n",
    "             data=data)"
   ]
  },
  {
   "cell_type": "code",
   "execution_count": 6,
   "metadata": {},
   "outputs": [
    {
     "data": {
      "text/plain": [
       "\n",
       "Call:\n",
       "glm(formula = RIESGODECONSUMO ~ Estratosocioeconómico + Hasidoinfielalgunavezenlavida + \n",
       "    Seconsideracelosoa + TOTCELOS + TOTIDISDS + TOTIDIS + TOTALTABACO + \n",
       "    TOTALALCOHOL + TOTALCANNABIS + TOTALCOCA + orientasexrecode2, \n",
       "    family = binomial(link = \"logit\"), data = data)\n",
       "\n",
       "Deviance Residuals: \n",
       "    Min       1Q   Median       3Q      Max  \n",
       "-3.0788   0.1334   0.2321   0.3249   3.8288  \n",
       "\n",
       "Coefficients:\n",
       "                                                Estimate Std. Error z value\n",
       "(Intercept)                                     6.785291   1.567463   4.329\n",
       "Estratosocioeconómico                          -0.390201   0.295796  -1.319\n",
       "HasidoinfielalgunavezenlavidaSi ha sido infiel -1.128388   0.650776  -1.734\n",
       "Seconsideracelosoa                              0.553930   0.534920   1.036\n",
       "TOTCELOS                                       -0.033049   0.021764  -1.518\n",
       "TOTIDISDS                                      -0.009019   0.048811  -0.185\n",
       "TOTIDIS                                         0.004453   0.123425   0.036\n",
       "TOTALTABACO                                     0.066186   0.035222   1.879\n",
       "TOTALALCOHOL                                   -0.057497   0.037477  -1.534\n",
       "TOTALCANNABIS                                  -0.161612   0.054686  -2.955\n",
       "TOTALCOCA                                      -0.343556   0.097403  -3.527\n",
       "orientasexrecode2No Heterosexual               -0.859920   0.577031  -1.490\n",
       "                                               Pr(>|z|)    \n",
       "(Intercept)                                     1.5e-05 ***\n",
       "Estratosocioeconómico                           0.18712    \n",
       "HasidoinfielalgunavezenlavidaSi ha sido infiel  0.08293 .  \n",
       "Seconsideracelosoa                              0.30042    \n",
       "TOTCELOS                                        0.12889    \n",
       "TOTIDISDS                                       0.85340    \n",
       "TOTIDIS                                         0.97122    \n",
       "TOTALTABACO                                     0.06023 .  \n",
       "TOTALALCOHOL                                    0.12498    \n",
       "TOTALCANNABIS                                   0.00312 ** \n",
       "TOTALCOCA                                       0.00042 ***\n",
       "orientasexrecode2No Heterosexual                0.13616    \n",
       "---\n",
       "Signif. codes:  0 '***' 0.001 '**' 0.01 '*' 0.05 '.' 0.1 ' ' 1\n",
       "\n",
       "(Dispersion parameter for binomial family taken to be 1)\n",
       "\n",
       "    Null deviance: 246.24  on 287  degrees of freedom\n",
       "Residual deviance: 119.08  on 276  degrees of freedom\n",
       "AIC: 143.08\n",
       "\n",
       "Number of Fisher Scoring iterations: 7\n"
      ]
     },
     "metadata": {},
     "output_type": "display_data"
    }
   ],
   "source": [
    "summary(RL_model)"
   ]
  },
  {
   "cell_type": "code",
   "execution_count": 7,
   "metadata": {},
   "outputs": [],
   "source": [
    "# exp(confint(RL_model))"
   ]
  },
  {
   "cell_type": "code",
   "execution_count": 8,
   "metadata": {},
   "outputs": [
    {
     "data": {
      "text/html": [
       "<dl class=dl-horizontal>\n",
       "\t<dt>(Intercept)</dt>\n",
       "\t\t<dd>884.73735723218</dd>\n",
       "\t<dt>Estratosocioeconómico</dt>\n",
       "\t\t<dd>0.676920512098135</dd>\n",
       "\t<dt>HasidoinfielalgunavezenlavidaSi ha sido infiel</dt>\n",
       "\t\t<dd>0.323554308767132</dd>\n",
       "\t<dt>Seconsideracelosoa</dt>\n",
       "\t\t<dd>1.74007841191042</dd>\n",
       "\t<dt>TOTCELOS</dt>\n",
       "\t\t<dd>0.967491563808031</dd>\n",
       "\t<dt>TOTIDISDS</dt>\n",
       "\t\t<dd>0.991021158925782</dd>\n",
       "\t<dt>TOTIDIS</dt>\n",
       "\t\t<dd>1.00446326653009</dd>\n",
       "\t<dt>TOTALTABACO</dt>\n",
       "\t\t<dd>1.0684251009319</dd>\n",
       "\t<dt>TOTALALCOHOL</dt>\n",
       "\t\t<dd>0.944124739160315</dd>\n",
       "\t<dt>TOTALCANNABIS</dt>\n",
       "\t\t<dd>0.850770947078653</dd>\n",
       "\t<dt>TOTALCOCA</dt>\n",
       "\t\t<dd>0.709243714485064</dd>\n",
       "\t<dt>orientasexrecode2No Heterosexual</dt>\n",
       "\t\t<dd>0.423195951805558</dd>\n",
       "</dl>\n"
      ],
      "text/latex": [
       "\\begin{description*}\n",
       "\\item[(Intercept)] 884.73735723218\n",
       "\\item[Estratosocioeconómico] 0.676920512098135\n",
       "\\item[HasidoinfielalgunavezenlavidaSi ha sido infiel] 0.323554308767132\n",
       "\\item[Seconsideracelosoa] 1.74007841191042\n",
       "\\item[TOTCELOS] 0.967491563808031\n",
       "\\item[TOTIDISDS] 0.991021158925782\n",
       "\\item[TOTIDIS] 1.00446326653009\n",
       "\\item[TOTALTABACO] 1.0684251009319\n",
       "\\item[TOTALALCOHOL] 0.944124739160315\n",
       "\\item[TOTALCANNABIS] 0.850770947078653\n",
       "\\item[TOTALCOCA] 0.709243714485064\n",
       "\\item[orientasexrecode2No Heterosexual] 0.423195951805558\n",
       "\\end{description*}\n"
      ],
      "text/markdown": [
       "(Intercept)\n",
       ":   884.73735723218Estratosocioeconómico\n",
       ":   0.676920512098135HasidoinfielalgunavezenlavidaSi ha sido infiel\n",
       ":   0.323554308767132Seconsideracelosoa\n",
       ":   1.74007841191042TOTCELOS\n",
       ":   0.967491563808031TOTIDISDS\n",
       ":   0.991021158925782TOTIDIS\n",
       ":   1.00446326653009TOTALTABACO\n",
       ":   1.0684251009319TOTALALCOHOL\n",
       ":   0.944124739160315TOTALCANNABIS\n",
       ":   0.850770947078653TOTALCOCA\n",
       ":   0.709243714485064orientasexrecode2No Heterosexual\n",
       ":   0.423195951805558\n",
       "\n"
      ],
      "text/plain": [
       "                                   (Intercept) \n",
       "                                   884.7373572 \n",
       "                         Estratosocioeconómico \n",
       "                                     0.6769205 \n",
       "HasidoinfielalgunavezenlavidaSi ha sido infiel \n",
       "                                     0.3235543 \n",
       "                            Seconsideracelosoa \n",
       "                                     1.7400784 \n",
       "                                      TOTCELOS \n",
       "                                     0.9674916 \n",
       "                                     TOTIDISDS \n",
       "                                     0.9910212 \n",
       "                                       TOTIDIS \n",
       "                                     1.0044633 \n",
       "                                   TOTALTABACO \n",
       "                                     1.0684251 \n",
       "                                  TOTALALCOHOL \n",
       "                                     0.9441247 \n",
       "                                 TOTALCANNABIS \n",
       "                                     0.8507709 \n",
       "                                     TOTALCOCA \n",
       "                                     0.7092437 \n",
       "              orientasexrecode2No Heterosexual \n",
       "                                     0.4231960 "
      ]
     },
     "metadata": {},
     "output_type": "display_data"
    }
   ],
   "source": [
    "exp(RL_model$coefficients)"
   ]
  },
  {
   "cell_type": "code",
   "execution_count": 9,
   "metadata": {},
   "outputs": [
    {
     "data": {
      "text/html": [
       "<table>\n",
       "<caption>A anova: 11 × 3</caption>\n",
       "<thead>\n",
       "\t<tr><th></th><th scope=col>Df</th><th scope=col>Chisq</th><th scope=col>Pr(&gt;Chisq)</th></tr>\n",
       "\t<tr><th></th><th scope=col>&lt;dbl&gt;</th><th scope=col>&lt;dbl&gt;</th><th scope=col>&lt;dbl&gt;</th></tr>\n",
       "</thead>\n",
       "<tbody>\n",
       "\t<tr><th scope=row>Estratosocioeconómico</th><td>1</td><td> 1.740</td><td>0.187</td></tr>\n",
       "\t<tr><th scope=row>Hasidoinfielalgunavezenlavida</th><td>1</td><td> 3.006</td><td>0.083</td></tr>\n",
       "\t<tr><th scope=row>Seconsideracelosoa</th><td>1</td><td> 1.072</td><td>0.300</td></tr>\n",
       "\t<tr><th scope=row>TOTCELOS</th><td>1</td><td> 2.306</td><td>0.129</td></tr>\n",
       "\t<tr><th scope=row>TOTIDISDS</th><td>1</td><td> 0.034</td><td>0.853</td></tr>\n",
       "\t<tr><th scope=row>TOTIDIS</th><td>1</td><td> 0.001</td><td>0.971</td></tr>\n",
       "\t<tr><th scope=row>TOTALTABACO</th><td>1</td><td> 3.531</td><td>0.060</td></tr>\n",
       "\t<tr><th scope=row>TOTALALCOHOL</th><td>1</td><td> 2.354</td><td>0.125</td></tr>\n",
       "\t<tr><th scope=row>TOTALCANNABIS</th><td>1</td><td> 8.734</td><td>0.003</td></tr>\n",
       "\t<tr><th scope=row>TOTALCOCA</th><td>1</td><td>12.441</td><td>0.000</td></tr>\n",
       "\t<tr><th scope=row>orientasexrecode2</th><td>1</td><td> 2.221</td><td>0.136</td></tr>\n",
       "</tbody>\n",
       "</table>\n"
      ],
      "text/latex": [
       "A anova: 11 × 3\n",
       "\\begin{tabular}{r|lll}\n",
       "  & Df & Chisq & Pr(>Chisq)\\\\\n",
       "  & <dbl> & <dbl> & <dbl>\\\\\n",
       "\\hline\n",
       "\tEstratosocioeconómico & 1 &  1.740 & 0.187\\\\\n",
       "\tHasidoinfielalgunavezenlavida & 1 &  3.006 & 0.083\\\\\n",
       "\tSeconsideracelosoa & 1 &  1.072 & 0.300\\\\\n",
       "\tTOTCELOS & 1 &  2.306 & 0.129\\\\\n",
       "\tTOTIDISDS & 1 &  0.034 & 0.853\\\\\n",
       "\tTOTIDIS & 1 &  0.001 & 0.971\\\\\n",
       "\tTOTALTABACO & 1 &  3.531 & 0.060\\\\\n",
       "\tTOTALALCOHOL & 1 &  2.354 & 0.125\\\\\n",
       "\tTOTALCANNABIS & 1 &  8.734 & 0.003\\\\\n",
       "\tTOTALCOCA & 1 & 12.441 & 0.000\\\\\n",
       "\torientasexrecode2 & 1 &  2.221 & 0.136\\\\\n",
       "\\end{tabular}\n"
      ],
      "text/markdown": [
       "\n",
       "A anova: 11 × 3\n",
       "\n",
       "| <!--/--> | Df &lt;dbl&gt; | Chisq &lt;dbl&gt; | Pr(&gt;Chisq) &lt;dbl&gt; |\n",
       "|---|---|---|---|\n",
       "| Estratosocioeconómico | 1 |  1.740 | 0.187 |\n",
       "| Hasidoinfielalgunavezenlavida | 1 |  3.006 | 0.083 |\n",
       "| Seconsideracelosoa | 1 |  1.072 | 0.300 |\n",
       "| TOTCELOS | 1 |  2.306 | 0.129 |\n",
       "| TOTIDISDS | 1 |  0.034 | 0.853 |\n",
       "| TOTIDIS | 1 |  0.001 | 0.971 |\n",
       "| TOTALTABACO | 1 |  3.531 | 0.060 |\n",
       "| TOTALALCOHOL | 1 |  2.354 | 0.125 |\n",
       "| TOTALCANNABIS | 1 |  8.734 | 0.003 |\n",
       "| TOTALCOCA | 1 | 12.441 | 0.000 |\n",
       "| orientasexrecode2 | 1 |  2.221 | 0.136 |\n",
       "\n"
      ],
      "text/plain": [
       "                              Df Chisq  Pr(>Chisq)\n",
       "Estratosocioeconómico         1   1.740 0.187     \n",
       "Hasidoinfielalgunavezenlavida 1   3.006 0.083     \n",
       "Seconsideracelosoa            1   1.072 0.300     \n",
       "TOTCELOS                      1   2.306 0.129     \n",
       "TOTIDISDS                     1   0.034 0.853     \n",
       "TOTIDIS                       1   0.001 0.971     \n",
       "TOTALTABACO                   1   3.531 0.060     \n",
       "TOTALALCOHOL                  1   2.354 0.125     \n",
       "TOTALCANNABIS                 1   8.734 0.003     \n",
       "TOTALCOCA                     1  12.441 0.000     \n",
       "orientasexrecode2             1   2.221 0.136     "
      ]
     },
     "metadata": {},
     "output_type": "display_data"
    }
   ],
   "source": [
    "round(Anova(RL_model, type=\"II\", test=\"Wald\"),3)"
   ]
  },
  {
   "cell_type": "code",
   "execution_count": 10,
   "metadata": {},
   "outputs": [
    {
     "data": {
      "text/html": [
       "<dl>\n",
       "\t<dt>$Models</dt>\n",
       "\t\t<dd><table>\n",
       "<caption>A matrix: 2 × 1 of type chr</caption>\n",
       "<thead>\n",
       "\t<tr><th></th><th scope=col></th></tr>\n",
       "</thead>\n",
       "<tbody>\n",
       "\t<tr><th scope=row>Model:</th><td>glm, RIESGODECONSUMO ~ Estratosocioeconómico + Hasidoinfielalgunavezenlavida + Seconsideracelosoa + TOTCELOS + TOTIDISDS + TOTIDIS + TOTALTABACO + TOTALALCOHOL + TOTALCANNABIS + TOTALCOCA + orientasexrecode2, binomial(link = \"logit\"), data</td></tr>\n",
       "\t<tr><th scope=row>Null:</th><td>glm, RIESGODECONSUMO ~ 1, binomial(link = \"logit\"), data                                                                                                                                                                                       </td></tr>\n",
       "</tbody>\n",
       "</table>\n",
       "</dd>\n",
       "\t<dt>$Pseudo.R.squared.for.model.vs.null</dt>\n",
       "\t\t<dd><table>\n",
       "<caption>A matrix: 3 × 1 of type dbl</caption>\n",
       "<thead>\n",
       "\t<tr><th></th><th scope=col>Pseudo.R.squared</th></tr>\n",
       "</thead>\n",
       "<tbody>\n",
       "\t<tr><th scope=row>McFadden</th><td>0.516411</td></tr>\n",
       "\t<tr><th scope=row>Cox and Snell (ML)</th><td>0.356947</td></tr>\n",
       "\t<tr><th scope=row>Nagelkerke (Cragg and Uhler)</th><td>0.621086</td></tr>\n",
       "</tbody>\n",
       "</table>\n",
       "</dd>\n",
       "\t<dt>$Likelihood.ratio.test</dt>\n",
       "\t\t<dd><table>\n",
       "<caption>A matrix: 1 × 4 of type dbl</caption>\n",
       "<thead>\n",
       "\t<tr><th scope=col>Df.diff</th><th scope=col>LogLik.diff</th><th scope=col>Chisq</th><th scope=col>p.value</th></tr>\n",
       "</thead>\n",
       "<tbody>\n",
       "\t<tr><td>-11</td><td>-63.58</td><td>127.16</td><td>6.5306e-22</td></tr>\n",
       "</tbody>\n",
       "</table>\n",
       "</dd>\n",
       "\t<dt>$Number.of.observations</dt>\n",
       "\t\t<dd><table>\n",
       "<caption>A matrix: 2 × 1 of type int</caption>\n",
       "<thead>\n",
       "\t<tr><th></th><th scope=col></th></tr>\n",
       "</thead>\n",
       "<tbody>\n",
       "\t<tr><th scope=row>Model:</th><td>288</td></tr>\n",
       "\t<tr><th scope=row>Null:</th><td>288</td></tr>\n",
       "</tbody>\n",
       "</table>\n",
       "</dd>\n",
       "\t<dt>$Messages</dt>\n",
       "\t\t<dd>'Note: For models fit with REML, these statistics are based on refitting with ML'</dd>\n",
       "\t<dt>$Warnings</dt>\n",
       "\t\t<dd>'None'</dd>\n",
       "</dl>\n"
      ],
      "text/latex": [
       "\\begin{description}\n",
       "\\item[\\$Models] A matrix: 2 × 1 of type chr\n",
       "\\begin{tabular}{r|l}\n",
       "  & \\\\\n",
       "\\hline\n",
       "\tModel: & glm, RIESGODECONSUMO \\textasciitilde{} Estratosocioeconómico + Hasidoinfielalgunavezenlavida + Seconsideracelosoa + TOTCELOS + TOTIDISDS + TOTIDIS + TOTALTABACO + TOTALALCOHOL + TOTALCANNABIS + TOTALCOCA + orientasexrecode2, binomial(link = \"logit\"), data\\\\\n",
       "\tNull: & glm, RIESGODECONSUMO \\textasciitilde{} 1, binomial(link = \"logit\"), data                                                                                                                                                                                       \\\\\n",
       "\\end{tabular}\n",
       "\n",
       "\\item[\\$Pseudo.R.squared.for.model.vs.null] A matrix: 3 × 1 of type dbl\n",
       "\\begin{tabular}{r|l}\n",
       "  & Pseudo.R.squared\\\\\n",
       "\\hline\n",
       "\tMcFadden & 0.516411\\\\\n",
       "\tCox and Snell (ML) & 0.356947\\\\\n",
       "\tNagelkerke (Cragg and Uhler) & 0.621086\\\\\n",
       "\\end{tabular}\n",
       "\n",
       "\\item[\\$Likelihood.ratio.test] A matrix: 1 × 4 of type dbl\n",
       "\\begin{tabular}{r|llll}\n",
       " Df.diff & LogLik.diff & Chisq & p.value\\\\\n",
       "\\hline\n",
       "\t -11 & -63.58 & 127.16 & 6.5306e-22\\\\\n",
       "\\end{tabular}\n",
       "\n",
       "\\item[\\$Number.of.observations] A matrix: 2 × 1 of type int\n",
       "\\begin{tabular}{r|l}\n",
       "  & \\\\\n",
       "\\hline\n",
       "\tModel: & 288\\\\\n",
       "\tNull: & 288\\\\\n",
       "\\end{tabular}\n",
       "\n",
       "\\item[\\$Messages] 'Note: For models fit with REML, these statistics are based on refitting with ML'\n",
       "\\item[\\$Warnings] 'None'\n",
       "\\end{description}\n"
      ],
      "text/markdown": [
       "$Models\n",
       ":   \n",
       "A matrix: 2 × 1 of type chr\n",
       "\n",
       "| <!--/--> | <!----> |\n",
       "|---|---|\n",
       "| Model: | glm, RIESGODECONSUMO ~ Estratosocioeconómico + Hasidoinfielalgunavezenlavida + Seconsideracelosoa + TOTCELOS + TOTIDISDS + TOTIDIS + TOTALTABACO + TOTALALCOHOL + TOTALCANNABIS + TOTALCOCA + orientasexrecode2, binomial(link = \"logit\"), data |\n",
       "| Null: | glm, RIESGODECONSUMO ~ 1, binomial(link = \"logit\"), data                                                                                                                                                                                        |\n",
       "\n",
       "\n",
       "$Pseudo.R.squared.for.model.vs.null\n",
       ":   \n",
       "A matrix: 3 × 1 of type dbl\n",
       "\n",
       "| <!--/--> | Pseudo.R.squared |\n",
       "|---|---|\n",
       "| McFadden | 0.516411 |\n",
       "| Cox and Snell (ML) | 0.356947 |\n",
       "| Nagelkerke (Cragg and Uhler) | 0.621086 |\n",
       "\n",
       "\n",
       "$Likelihood.ratio.test\n",
       ":   \n",
       "A matrix: 1 × 4 of type dbl\n",
       "\n",
       "| Df.diff | LogLik.diff | Chisq | p.value |\n",
       "|---|---|---|---|\n",
       "| -11 | -63.58 | 127.16 | 6.5306e-22 |\n",
       "\n",
       "\n",
       "$Number.of.observations\n",
       ":   \n",
       "A matrix: 2 × 1 of type int\n",
       "\n",
       "| <!--/--> | <!----> |\n",
       "|---|---|\n",
       "| Model: | 288 |\n",
       "| Null: | 288 |\n",
       "\n",
       "\n",
       "$Messages\n",
       ":   'Note: For models fit with REML, these statistics are based on refitting with ML'\n",
       "$Warnings\n",
       ":   'None'\n",
       "\n",
       "\n"
      ],
      "text/plain": [
       "$Models\n",
       "                                                                                                                                                                                                                                                          \n",
       "Model: \"glm, RIESGODECONSUMO ~ Estratosocioeconómico + Hasidoinfielalgunavezenlavida + Seconsideracelosoa + TOTCELOS + TOTIDISDS + TOTIDIS + TOTALTABACO + TOTALALCOHOL + TOTALCANNABIS + TOTALCOCA + orientasexrecode2, binomial(link = \\\"logit\\\"), data\"\n",
       "Null:  \"glm, RIESGODECONSUMO ~ 1, binomial(link = \\\"logit\\\"), data\"                                                                                                                                                                                       \n",
       "\n",
       "$Pseudo.R.squared.for.model.vs.null\n",
       "                             Pseudo.R.squared\n",
       "McFadden                             0.516411\n",
       "Cox and Snell (ML)                   0.356947\n",
       "Nagelkerke (Cragg and Uhler)         0.621086\n",
       "\n",
       "$Likelihood.ratio.test\n",
       " Df.diff LogLik.diff  Chisq    p.value\n",
       "     -11      -63.58 127.16 6.5306e-22\n",
       "\n",
       "$Number.of.observations\n",
       "          \n",
       "Model: 288\n",
       "Null:  288\n",
       "\n",
       "$Messages\n",
       "[1] \"Note: For models fit with REML, these statistics are based on refitting with ML\"\n",
       "\n",
       "$Warnings\n",
       "[1] \"None\"\n"
      ]
     },
     "metadata": {},
     "output_type": "display_data"
    }
   ],
   "source": [
    "nagelkerke(RL_model)"
   ]
  },
  {
   "cell_type": "code",
   "execution_count": 11,
   "metadata": {},
   "outputs": [
    {
     "data": {
      "text/html": [
       "<table>\n",
       "<caption>A anova: 2 × 5</caption>\n",
       "<thead>\n",
       "\t<tr><th scope=col>Resid. Df</th><th scope=col>Resid. Dev</th><th scope=col>Df</th><th scope=col>Deviance</th><th scope=col>Pr(&gt;Chi)</th></tr>\n",
       "\t<tr><th scope=col>&lt;dbl&gt;</th><th scope=col>&lt;dbl&gt;</th><th scope=col>&lt;dbl&gt;</th><th scope=col>&lt;dbl&gt;</th><th scope=col>&lt;dbl&gt;</th></tr>\n",
       "</thead>\n",
       "<tbody>\n",
       "\t<tr><td>276</td><td>119.0783</td><td> NA</td><td>       NA</td><td>          NA</td></tr>\n",
       "\t<tr><td>287</td><td>246.2385</td><td>-11</td><td>-127.1601</td><td>6.530646e-22</td></tr>\n",
       "</tbody>\n",
       "</table>\n"
      ],
      "text/latex": [
       "A anova: 2 × 5\n",
       "\\begin{tabular}{r|lllll}\n",
       " Resid. Df & Resid. Dev & Df & Deviance & Pr(>Chi)\\\\\n",
       " <dbl> & <dbl> & <dbl> & <dbl> & <dbl>\\\\\n",
       "\\hline\n",
       "\t 276 & 119.0783 &  NA &        NA &           NA\\\\\n",
       "\t 287 & 246.2385 & -11 & -127.1601 & 6.530646e-22\\\\\n",
       "\\end{tabular}\n"
      ],
      "text/markdown": [
       "\n",
       "A anova: 2 × 5\n",
       "\n",
       "| Resid. Df &lt;dbl&gt; | Resid. Dev &lt;dbl&gt; | Df &lt;dbl&gt; | Deviance &lt;dbl&gt; | Pr(&gt;Chi) &lt;dbl&gt; |\n",
       "|---|---|---|---|---|\n",
       "| 276 | 119.0783 |  NA |        NA |           NA |\n",
       "| 287 | 246.2385 | -11 | -127.1601 | 6.530646e-22 |\n",
       "\n"
      ],
      "text/plain": [
       "  Resid. Df Resid. Dev Df  Deviance  Pr(>Chi)    \n",
       "1 276       119.0783    NA        NA           NA\n",
       "2 287       246.2385   -11 -127.1601 6.530646e-22"
      ]
     },
     "metadata": {},
     "output_type": "display_data"
    }
   ],
   "source": [
    "anova(RL_model,\n",
    "      update(RL_model, ~1),    # update here produces null model for comparison\n",
    "      test=\"Chisq\")"
   ]
  },
  {
   "cell_type": "code",
   "execution_count": 12,
   "metadata": {},
   "outputs": [
    {
     "data": {
      "text/plain": [
       "   \n",
       "      0   1\n",
       "  0  25   3\n",
       "  1  19 241"
      ]
     },
     "metadata": {},
     "output_type": "display_data"
    },
    {
     "data": {
      "text/plain": [
       "   \n",
       "        0     1\n",
       "  0 0.893 0.107\n",
       "  1 0.073 0.927"
      ]
     },
     "metadata": {},
     "output_type": "display_data"
    }
   ],
   "source": [
    "predict_RL_model=table(factor((predict(RL_model,data,type='response')>.5)*1),\n",
    "                       factor((data$RIESGODECONSUMO==\"Con riesgo\")*1))\n",
    "predict_RL_model\n",
    "round(prop.table(predict_RL_model, 1),3) # row percentages \n",
    "\n"
   ]
  },
  {
   "cell_type": "code",
   "execution_count": 13,
   "metadata": {},
   "outputs": [],
   "source": [
    "# wald.test(b = coef(RL_model), Sigma = vcov(RL_model), Terms = c(2,7,9,10))"
   ]
  },
  {
   "cell_type": "code",
   "execution_count": 14,
   "metadata": {},
   "outputs": [],
   "source": [
    "reg_mod_fx=function(ha_sido_infiel,tot_celos, tot_alcohol, tot_cannabis){\n",
    "    pred_val=6.785291+(ha_sido_infiel*-1.128388)+(tot_celos*-0.033049)+(tot_alcohol*-0.057497)+(tot_cannabis*-0.161612)\n",
    "    return(1/(1+exp(−pred_val)))\n",
    "}"
   ]
  },
  {
   "cell_type": "code",
   "execution_count": 15,
   "metadata": {},
   "outputs": [
    {
     "data": {
      "text/html": [
       "0.180268417467528"
      ],
      "text/latex": [
       "0.180268417467528"
      ],
      "text/markdown": [
       "0.180268417467528"
      ],
      "text/plain": [
       "[1] 0.1802684"
      ]
     },
     "metadata": {},
     "output_type": "display_data"
    }
   ],
   "source": [
    "reg_mod_fx(1,67,30,20)"
   ]
  },
  {
   "cell_type": "markdown",
   "metadata": {},
   "source": [
    "# Modelo de ecuaciones estructurales en R\n",
    "\n",
    "[Paquete Lavaan](http://lavaan.ugent.be/)\n",
    "\n",
    "[R-Bloggers SEM model](https://www.r-bloggers.com/structural-equation-modelling-in-r-part-1/)"
   ]
  },
  {
   "cell_type": "code",
   "execution_count": 16,
   "metadata": {},
   "outputs": [],
   "source": [
    "dat_mod=data[c(\"orientasexrecode2\",\"TOTCELOS\",\"TOTIDISDS\",\"TOTIDIS\")]\n",
    "dat_mod$orientasexrecode2=(dat_mod$orientasexrecode2==\"No Heterosexual\")*1"
   ]
  },
  {
   "cell_type": "code",
   "execution_count": 17,
   "metadata": {},
   "outputs": [],
   "source": [
    "model <- '\n",
    "   # regressions\n",
    "     f_1=~ orientasexrecode2 + TOTCELOS + TOTIDISDS + TOTIDIS\n",
    "  # residual correlations\n",
    "    orientasexrecode2 ~~ TOTCELOS + TOTIDISDS + TOTIDIS\n",
    "    TOTCELOS ~~ TOTIDISDS + TOTIDIS\n",
    "    TOTIDISDS ~~ TOTIDIS\n",
    "'"
   ]
  },
  {
   "cell_type": "code",
   "execution_count": 21,
   "metadata": {},
   "outputs": [
    {
     "name": "stderr",
     "output_type": "stream",
     "text": [
      "Warning message in lav_model_vcov(lavmodel = lavmodel2, lavsamplestats = lavsamplestats, :\n",
      "\"lavaan WARNING:\n",
      "    Could not compute standard errors! The information matrix could\n",
      "    not be inverted. This may be a symptom that the model is not\n",
      "    identified.\"Warning message in lav_object_post_check(object):\n",
      "\"lavaan WARNING: some estimated ov variances are negative\""
     ]
    },
    {
     "name": "stdout",
     "output_type": "stream",
     "text": [
      "lavaan 0.6-5 ended normally after 85 iterations\n",
      "\n",
      "  Estimator                                         ML\n",
      "  Optimization method                           NLMINB\n",
      "  Number of free parameters                         14\n",
      "                                                      \n",
      "  Number of observations                           288\n",
      "                                                      \n",
      "Model Test User Model:\n",
      "                                                      \n",
      "  Test statistic                                    NA\n",
      "  Degrees of freedom                                -4\n",
      "  P-value (Unknown)                                 NA\n",
      "\n",
      "User Model versus Baseline Model:\n",
      "\n",
      "  Comparative Fit Index (CFI)                       NA\n",
      "  Tucker-Lewis Index (TLI)                          NA\n",
      "\n",
      "Loglikelihood and Information Criteria:\n",
      "\n",
      "  Loglikelihood user model (H0)              -2806.437\n",
      "  Loglikelihood unrestricted model (H1)      -2806.437\n",
      "                                                      \n",
      "  Akaike (AIC)                                5640.875\n",
      "  Bayesian (BIC)                              5692.156\n",
      "  Sample-size adjusted Bayesian (BIC)         5647.760\n",
      "\n",
      "Root Mean Square Error of Approximation:\n",
      "\n",
      "  RMSEA                                             NA\n",
      "  90 Percent confidence interval - lower            NA\n",
      "  90 Percent confidence interval - upper            NA\n",
      "  P-value RMSEA <= 0.05                             NA\n",
      "\n",
      "Standardized Root Mean Square Residual:\n",
      "\n",
      "  SRMR                                           0.000\n",
      "\n",
      "Parameter Estimates:\n",
      "\n",
      "  Information                                 Expected\n",
      "  Information saturated (h1) model          Structured\n",
      "  Standard errors                             Standard\n",
      "\n",
      "Latent Variables:\n",
      "                   Estimate  Std.Err  z-value  P(>|z|)\n",
      "  f_1 =~                                              \n",
      "    orientasexrcd2    1.000                           \n",
      "    TOTCELOS         26.096       NA                  \n",
      "    TOTIDISDS        27.488       NA                  \n",
      "    TOTIDIS         103.897       NA                  \n",
      "\n",
      "Covariances:\n",
      "                       Estimate  Std.Err  z-value  P(>|z|)\n",
      " .orientasexrecode2 ~~                                    \n",
      "   .TOTCELOS              0.288       NA                  \n",
      "   .TOTIDISDS            -0.062       NA                  \n",
      "   .TOTIDIS               0.096       NA                  \n",
      " .TOTCELOS ~~                                             \n",
      "   .TOTIDISDS             7.372       NA                  \n",
      "   .TOTIDIS               2.257       NA                  \n",
      " .TOTIDISDS ~~                                            \n",
      "   .TOTIDIS              -4.961       NA                  \n",
      "\n",
      "Variances:\n",
      "                   Estimate  Std.Err  z-value  P(>|z|)\n",
      "   .orientasexrcd2    0.166       NA                  \n",
      "   .TOTCELOS        154.449       NA                  \n",
      "   .TOTIDISDS        32.848       NA                  \n",
      "   .TOTIDIS          -7.921       NA                  \n",
      "    f_1               0.001       NA                  \n",
      "\n"
     ]
    }
   ],
   "source": [
    "fit_cfa <- cfa(model,data=dat_mod)\n",
    "summary(fit_cfa, fit.measures=TRUE)"
   ]
  },
  {
   "cell_type": "code",
   "execution_count": 19,
   "metadata": {},
   "outputs": [
    {
     "name": "stderr",
     "output_type": "stream",
     "text": [
      "Warning message in lav_model_vcov(lavmodel = lavmodel2, lavsamplestats = lavsamplestats, :\n",
      "\"lavaan WARNING:\n",
      "    Could not compute standard errors! The information matrix could\n",
      "    not be inverted. This may be a symptom that the model is not\n",
      "    identified.\"Warning message in lav_object_post_check(object):\n",
      "\"lavaan WARNING: some estimated ov variances are negative\""
     ]
    },
    {
     "name": "stdout",
     "output_type": "stream",
     "text": [
      "lavaan 0.6-5 ended normally after 85 iterations\n",
      "\n",
      "  Estimator                                         ML\n",
      "  Optimization method                           NLMINB\n",
      "  Number of free parameters                         14\n",
      "                                                      \n",
      "  Number of observations                           288\n",
      "                                                      \n",
      "Model Test User Model:\n",
      "                                                      \n",
      "  Test statistic                                    NA\n",
      "  Degrees of freedom                                -4\n",
      "  P-value (Unknown)                                 NA\n",
      "\n",
      "Parameter Estimates:\n",
      "\n",
      "  Information                                 Expected\n",
      "  Information saturated (h1) model          Structured\n",
      "  Standard errors                             Standard\n",
      "\n",
      "Latent Variables:\n",
      "                   Estimate  Std.Err  z-value  P(>|z|)\n",
      "  f_1 =~                                              \n",
      "    orientasexrcd2    1.000                           \n",
      "    TOTCELOS         26.096       NA                  \n",
      "    TOTIDISDS        27.488       NA                  \n",
      "    TOTIDIS         103.897       NA                  \n",
      "\n",
      "Covariances:\n",
      "                       Estimate  Std.Err  z-value  P(>|z|)\n",
      " .orientasexrecode2 ~~                                    \n",
      "   .TOTCELOS              0.288       NA                  \n",
      "   .TOTIDISDS            -0.062       NA                  \n",
      "   .TOTIDIS               0.096       NA                  \n",
      " .TOTCELOS ~~                                             \n",
      "   .TOTIDISDS             7.372       NA                  \n",
      "   .TOTIDIS               2.257       NA                  \n",
      " .TOTIDISDS ~~                                            \n",
      "   .TOTIDIS              -4.961       NA                  \n",
      "\n",
      "Variances:\n",
      "                   Estimate  Std.Err  z-value  P(>|z|)\n",
      "   .orientasexrcd2    0.166       NA                  \n",
      "   .TOTCELOS        154.449       NA                  \n",
      "   .TOTIDISDS        32.848       NA                  \n",
      "   .TOTIDIS          -7.921       NA                  \n",
      "    f_1               0.001       NA                  \n",
      "\n"
     ]
    }
   ],
   "source": [
    "fit_sem <- sem(model,data=dat_mod)\n",
    "summary(fit_sem)"
   ]
  },
  {
   "cell_type": "code",
   "execution_count": 20,
   "metadata": {},
   "outputs": [
    {
     "name": "stderr",
     "output_type": "stream",
     "text": [
      "Warning message in qgraph::qgraph(Edgelist, labels = nLab, bidirectional = Bidir, :\n",
      "\"The following arguments are not documented and likely not arguments of qgraph and thus ignored: node.label.cex\""
     ]
    },
    {
     "data": {
      "image/png": "[encoded data removed]",
      "text/plain": [
       "plot without title"
      ]
     },
     "metadata": {},
     "output_type": "display_data"
    }
   ],
   "source": [
    "semPaths(fit_sem, style=\"lisrel\", \n",
    "        whatLabels = \"std\", edge.label.cex = .6, node.label.cex = .6, \n",
    "        label.prop=0.9, edge.label.color = \"black\", rotation = 4, \n",
    "        equalizeManifests = FALSE, optimizeLatRes = TRUE, node.width = 1.5, \n",
    "        edge.width = 0.5, shapeMan = \"rectangle\", shapeLat = \"ellipse\", \n",
    "        shapeInt = \"triangle\", sizeMan = 4, sizeInt = 2, sizeLat = 4, \n",
    "        curve=2, unCol = \"#070b8c\")\n"
   ]
  }
 ],
 "metadata": {
  "kernelspec": {
   "display_name": "R",
   "language": "R",
   "name": "ir"
  },
  "language_info": {
   "codemirror_mode": "r",
   "file_extension": ".r",
   "mimetype": "text/x-r-source",
   "name": "R",
   "pygments_lexer": "r",
   "version": "3.6.1"
  }
 },
 "nbformat": 4,
 "nbformat_minor": 4
}
