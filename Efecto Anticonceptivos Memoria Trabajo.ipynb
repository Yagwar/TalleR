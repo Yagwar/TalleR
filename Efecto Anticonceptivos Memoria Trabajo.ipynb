{
 "cells": [
  {
   "cell_type": "code",
   "execution_count": 3,
   "metadata": {},
   "outputs": [
    {
     "data": {
      "text/html": [
       "<ol class=list-inline>\n",
       "\t<li>'Participantes'</li>\n",
       "\t<li>'edad'</li>\n",
       "\t<li>'X1_metodo'</li>\n",
       "\t<li>'Ciclo_menstr'</li>\n",
       "\t<li>'Desayuno'</li>\n",
       "\t<li>'Durac_sueño'</li>\n",
       "\t<li>'Metod_antic_emerg'</li>\n",
       "\t<li>'tiempo.uso_antic'</li>\n",
       "\t<li>'Mes_ult_menstr'</li>\n",
       "\t<li>'Y1_moca'</li>\n",
       "\t<li>'estres_nivel'</li>\n",
       "\t<li>'estres_punt'</li>\n",
       "</ol>\n"
      ],
      "text/latex": [
       "\\begin{enumerate*}\n",
       "\\item 'Participantes'\n",
       "\\item 'edad'\n",
       "\\item 'X1\\_metodo'\n",
       "\\item 'Ciclo\\_menstr'\n",
       "\\item 'Desayuno'\n",
       "\\item 'Durac\\_sueño'\n",
       "\\item 'Metod\\_antic\\_emerg'\n",
       "\\item 'tiempo.uso\\_antic'\n",
       "\\item 'Mes\\_ult\\_menstr'\n",
       "\\item 'Y1\\_moca'\n",
       "\\item 'estres\\_nivel'\n",
       "\\item 'estres\\_punt'\n",
       "\\end{enumerate*}\n"
      ],
      "text/markdown": [
       "1. 'Participantes'\n",
       "2. 'edad'\n",
       "3. 'X1_metodo'\n",
       "4. 'Ciclo_menstr'\n",
       "5. 'Desayuno'\n",
       "6. 'Durac_sueño'\n",
       "7. 'Metod_antic_emerg'\n",
       "8. 'tiempo.uso_antic'\n",
       "9. 'Mes_ult_menstr'\n",
       "10. 'Y1_moca'\n",
       "11. 'estres_nivel'\n",
       "12. 'estres_punt'\n",
       "\n",
       "\n"
      ],
      "text/plain": [
       " [1] \"Participantes\"     \"edad\"              \"X1_metodo\"        \n",
       " [4] \"Ciclo_menstr\"      \"Desayuno\"          \"Durac_sueño\"      \n",
       " [7] \"Metod_antic_emerg\" \"tiempo.uso_antic\"  \"Mes_ult_menstr\"   \n",
       "[10] \"Y1_moca\"           \"estres_nivel\"      \"estres_punt\"      "
      ]
     },
     "metadata": {},
     "output_type": "display_data"
    }
   ],
   "source": [
    "DATOS=read.csv2(\"datos1.csv\")\n",
    "names(DATOS)"
   ]
  },
  {
   "cell_type": "code",
   "execution_count": 5,
   "metadata": {},
   "outputs": [
    {
     "data": {
      "image/png": "[encoded data removed]",
      "text/plain": [
       "Plot with title “Histogram of DATOS$edad”"
      ]
     },
     "metadata": {},
     "output_type": "display_data"
    }
   ],
   "source": [
    "hist(DATOS$edad, col=\"lightgreen\")"
   ]
  },
  {
   "cell_type": "code",
   "execution_count": 6,
   "metadata": {},
   "outputs": [
    {
     "data": {
      "text/html": [
       "<ol class=list-inline>\n",
       "\t<li>pastillas</li>\n",
       "\t<li>pastillas</li>\n",
       "\t<li>jadelle</li>\n",
       "\t<li>jadelle</li>\n",
       "\t<li>jadelle</li>\n",
       "\t<li>jadelle</li>\n",
       "\t<li>inyeccion</li>\n",
       "\t<li>inyeccion</li>\n",
       "\t<li>inyeccion</li>\n",
       "\t<li>no_uso</li>\n",
       "\t<li>no_uso</li>\n",
       "\t<li>no_uso</li>\n",
       "\t<li>no_uso</li>\n",
       "\t<li>no_uso</li>\n",
       "\t<li>no_uso</li>\n",
       "\t<li>no_uso</li>\n",
       "\t<li>no_uso</li>\n",
       "\t<li>no_uso</li>\n",
       "\t<li>no_uso</li>\n",
       "\t<li>no_uso</li>\n",
       "\t<li>no_uso</li>\n",
       "\t<li>no_uso</li>\n",
       "\t<li>no_uso</li>\n",
       "\t<li>no_uso</li>\n",
       "\t<li>no_uso</li>\n",
       "\t<li>no_uso</li>\n",
       "\t<li>no_uso</li>\n",
       "</ol>\n"
      ],
      "text/latex": [
       "\\begin{enumerate*}\n",
       "\\item pastillas\n",
       "\\item pastillas\n",
       "\\item jadelle\n",
       "\\item jadelle\n",
       "\\item jadelle\n",
       "\\item jadelle\n",
       "\\item inyeccion\n",
       "\\item inyeccion\n",
       "\\item inyeccion\n",
       "\\item no\\_uso\n",
       "\\item no\\_uso\n",
       "\\item no\\_uso\n",
       "\\item no\\_uso\n",
       "\\item no\\_uso\n",
       "\\item no\\_uso\n",
       "\\item no\\_uso\n",
       "\\item no\\_uso\n",
       "\\item no\\_uso\n",
       "\\item no\\_uso\n",
       "\\item no\\_uso\n",
       "\\item no\\_uso\n",
       "\\item no\\_uso\n",
       "\\item no\\_uso\n",
       "\\item no\\_uso\n",
       "\\item no\\_uso\n",
       "\\item no\\_uso\n",
       "\\item no\\_uso\n",
       "\\end{enumerate*}\n"
      ],
      "text/markdown": [
       "1. pastillas\n",
       "2. pastillas\n",
       "3. jadelle\n",
       "4. jadelle\n",
       "5. jadelle\n",
       "6. jadelle\n",
       "7. inyeccion\n",
       "8. inyeccion\n",
       "9. inyeccion\n",
       "10. no_uso\n",
       "11. no_uso\n",
       "12. no_uso\n",
       "13. no_uso\n",
       "14. no_uso\n",
       "15. no_uso\n",
       "16. no_uso\n",
       "17. no_uso\n",
       "18. no_uso\n",
       "19. no_uso\n",
       "20. no_uso\n",
       "21. no_uso\n",
       "22. no_uso\n",
       "23. no_uso\n",
       "24. no_uso\n",
       "25. no_uso\n",
       "26. no_uso\n",
       "27. no_uso\n",
       "\n",
       "\n"
      ],
      "text/plain": [
       " [1] pastillas pastillas jadelle   jadelle   jadelle   jadelle   inyeccion\n",
       " [8] inyeccion inyeccion no_uso    no_uso    no_uso    no_uso    no_uso   \n",
       "[15] no_uso    no_uso    no_uso    no_uso    no_uso    no_uso    no_uso   \n",
       "[22] no_uso    no_uso    no_uso    no_uso    no_uso    no_uso   \n",
       "Levels: inyeccion jadelle no_uso pastillas"
      ]
     },
     "metadata": {},
     "output_type": "display_data"
    }
   ],
   "source": [
    "DATOS$X1_metodo"
   ]
  },
  {
   "cell_type": "code",
   "execution_count": 8,
   "metadata": {},
   "outputs": [
    {
     "data": {
      "text/plain": [
       "\n",
       "\tFisher's Exact Test for Count Data\n",
       "\n",
       "data:  DATOS$X1_metodo and DATOS$Y1_moca\n",
       "p-value = 0.8879\n",
       "alternative hypothesis: two.sided\n"
      ]
     },
     "metadata": {},
     "output_type": "display_data"
    }
   ],
   "source": [
    "# Test de fisher\n",
    "fisher.test(DATOS$X1_metodo,DATOS$Y1_moca)"
   ]
  },
  {
   "cell_type": "code",
   "execution_count": 10,
   "metadata": {},
   "outputs": [
    {
     "data": {
      "text/plain": [
       "            Df Sum Sq Mean Sq F value Pr(>F)\n",
       "X1_metodo    3    8.1   2.691    0.13  0.941\n",
       "Residuals   23  475.8  20.686               "
      ]
     },
     "metadata": {},
     "output_type": "display_data"
    }
   ],
   "source": [
    "# One Way Anova (Completely Randomized Design)\n",
    "fit <- aov(Y1_moca ~ X1_metodo, data=DATOS) \n",
    "summary(fit)"
   ]
  },
  {
   "cell_type": "code",
   "execution_count": 13,
   "metadata": {},
   "outputs": [
    {
     "data": {
      "image/png": "[encoded data removed]",
      "text/plain": [
       "plot without title"
      ]
     },
     "metadata": {},
     "output_type": "display_data"
    }
   ],
   "source": [
    "pairs(DATOS, pch=16)"
   ]
  },
  {
   "cell_type": "markdown",
   "metadata": {
    "collapsed": true
   },
   "source": [
    "# Segundo pilotaje\n"
   ]
  },
  {
   "cell_type": "code",
   "execution_count": 24,
   "metadata": {},
   "outputs": [
    {
     "data": {
      "text/plain": [
       "  uso_met               metodo        moca         estres     estres_punt   \n",
       " Mode :logical   inyeccion :28   Min.   :12.00   alto :  4   Min.   :1.130  \n",
       " FALSE:78        la_T      : 6   1st Qu.:19.00   bajo : 46   1st Qu.:2.850  \n",
       " TRUE :81        no_uso    :78   Median :22.00   medio:109   Median :3.260  \n",
       " NA's :0         pastillas :18   Mean   :21.39               Mean   :3.375  \n",
       "                 subdermico:29   3rd Qu.:24.00               3rd Qu.:3.840  \n",
       "                                 Max.   :29.00               Max.   :8.390  "
      ]
     },
     "metadata": {},
     "output_type": "display_data"
    }
   ],
   "source": [
    "dat_2=read.csv2(\"exp_1.csv\")\n",
    "uso_met=!dat_2$metodo==\"no_uso\"\n",
    "dat_2=data.frame(uso_met,dat_2)\n",
    "summary(dat_2)"
   ]
  },
  {
   "cell_type": "code",
   "execution_count": 25,
   "metadata": {},
   "outputs": [
    {
     "ename": "ERROR",
     "evalue": "Error in fisher.test(dat_2$uso_met, dat_2$moca): FEXACT error 7.\nLDSTP is too small for this problem.\nTry increasing the size of the workspace.\n",
     "output_type": "error",
     "traceback": [
      "Error in fisher.test(dat_2$uso_met, dat_2$moca): FEXACT error 7.\nLDSTP is too small for this problem.\nTry increasing the size of the workspace.\nTraceback:\n",
      "1. fisher.test(dat_2$uso_met, dat_2$moca)"
     ]
    }
   ],
   "source": [
    "fisher.test(dat_2$uso_met,dat_2$moca)"
   ]
  },
  {
   "cell_type": "code",
   "execution_count": 26,
   "metadata": {},
   "outputs": [
    {
     "data": {
      "text/plain": [
       "             Df Sum Sq Mean Sq F value Pr(>F)\n",
       "uso_met       1   18.9   18.91    1.33  0.251\n",
       "Residuals   157 2232.9   14.22               "
      ]
     },
     "metadata": {},
     "output_type": "display_data"
    }
   ],
   "source": [
    "# One Way Anova (Completely Randomized Design)\n",
    "fit_2 <- aov(moca ~ uso_met, data=dat_2) \n",
    "summary(fit_2)"
   ]
  },
  {
   "cell_type": "code",
   "execution_count": 27,
   "metadata": {},
   "outputs": [
    {
     "data": {
      "text/plain": [
       "             Df Sum Sq Mean Sq F value Pr(>F)\n",
       "metodo        4     57   14.24   0.999   0.41\n",
       "Residuals   154   2195   14.25               "
      ]
     },
     "metadata": {},
     "output_type": "display_data"
    }
   ],
   "source": [
    "# One Way Anova (Completely Randomized Design)\n",
    "fit_3 <- aov(moca ~ metodo, data=dat_2) \n",
    "summary(fit_3)"
   ]
  },
  {
   "cell_type": "code",
   "execution_count": 29,
   "metadata": {},
   "outputs": [
    {
     "name": "stderr",
     "output_type": "stream",
     "text": [
      "Warning message in chisq.test(dat_2$metodo, dat_2$estres, correct = FALSE):\n",
      "“Chi-squared approximation may be incorrect”"
     ]
    },
    {
     "data": {
      "text/plain": [
       "\n",
       "\tPearson's Chi-squared test\n",
       "\n",
       "data:  dat_2$metodo and dat_2$estres\n",
       "X-squared = 12.678, df = 8, p-value = 0.1234\n"
      ]
     },
     "metadata": {},
     "output_type": "display_data"
    }
   ],
   "source": [
    "chisq.test(dat_2$metodo, dat_2$estres, correct=FALSE)"
   ]
  },
  {
   "cell_type": "code",
   "execution_count": 30,
   "metadata": {},
   "outputs": [
    {
     "data": {
      "text/plain": [
       "             Df Sum Sq Mean Sq F value Pr(>F)\n",
       "estres        2   32.6   16.32   1.148   0.32\n",
       "Residuals   156 2219.2   14.22               "
      ]
     },
     "metadata": {},
     "output_type": "display_data"
    }
   ],
   "source": [
    "fit_4 <- aov(moca ~ estres, data=dat_2) \n",
    "summary(fit_4)"
   ]
  },
  {
   "cell_type": "code",
   "execution_count": 37,
   "metadata": {},
   "outputs": [
    {
     "data": {
      "text/plain": [
       "\n",
       "\tPearson's product-moment correlation\n",
       "\n",
       "data:  dat_2$moca and dat_2$estres_punt\n",
       "t = -0.4179, df = 157, p-value = 0.6766\n",
       "alternative hypothesis: true correlation is not equal to 0\n",
       "95 percent confidence interval:\n",
       " -0.1880057  0.1229512\n",
       "sample estimates:\n",
       "        cor \n",
       "-0.03333389 \n"
      ]
     },
     "metadata": {},
     "output_type": "display_data"
    }
   ],
   "source": [
    "cor.test(dat_2$moca, dat_2$estres_punt)"
   ]
  },
  {
   "cell_type": "code",
   "execution_count": 40,
   "metadata": {},
   "outputs": [
    {
     "data": {
      "image/png": "[encoded data removed]",
      "text/plain": [
       "plot without title"
      ]
     },
     "metadata": {},
     "output_type": "display_data"
    }
   ],
   "source": [
    "barplot(table(dat_2$estres))"
   ]
  }
 ],
 "metadata": {
  "kernelspec": {
   "display_name": "R",
   "language": "R",
   "name": "ir"
  },
  "language_info": {
   "codemirror_mode": "r",
   "file_extension": ".r",
   "mimetype": "text/x-r-source",
   "name": "R",
   "pygments_lexer": "r",
   "version": "3.3.2"
  }
 },
 "nbformat": 4,
 "nbformat_minor": 2
}
